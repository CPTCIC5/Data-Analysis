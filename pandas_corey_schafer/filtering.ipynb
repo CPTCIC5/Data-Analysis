{
 "cells": [
  {
   "cell_type": "code",
   "execution_count": 44,
   "id": "aa26f087",
   "metadata": {},
   "outputs": [],
   "source": [
    "import pandas as pd"
   ]
  },
  {
   "cell_type": "code",
   "execution_count": 57,
   "id": "554f67ee",
   "metadata": {},
   "outputs": [],
   "source": [
    "people  = {\n",
    "    \"first\" : ['Corey','Jane','John'],\n",
    "    \"last\" :  ['Schafer','Jennie','Johnny'],\n",
    "    \"email\" : ['corey123@gmail.com','jane@hotmail.com','johnybhaiya@gmail.com'],\n",
    "    \"income\" :  [2000,3000,1000],\n",
    "    \"nation\" : ['USA','Russia','Brazil']\n",
    "    \n",
    "}"
   ]
  },
  {
   "cell_type": "code",
   "execution_count": 58,
   "id": "15931485",
   "metadata": {},
   "outputs": [],
   "source": [
    "df = pd.DataFrame(people)"
   ]
  },
  {
   "cell_type": "code",
   "execution_count": 59,
   "id": "0fa0c9d1",
   "metadata": {},
   "outputs": [
    {
     "data": {
      "text/html": [
       "<div>\n",
       "<style scoped>\n",
       "    .dataframe tbody tr th:only-of-type {\n",
       "        vertical-align: middle;\n",
       "    }\n",
       "\n",
       "    .dataframe tbody tr th {\n",
       "        vertical-align: top;\n",
       "    }\n",
       "\n",
       "    .dataframe thead th {\n",
       "        text-align: right;\n",
       "    }\n",
       "</style>\n",
       "<table border=\"1\" class=\"dataframe\">\n",
       "  <thead>\n",
       "    <tr style=\"text-align: right;\">\n",
       "      <th></th>\n",
       "      <th>first</th>\n",
       "      <th>last</th>\n",
       "      <th>email</th>\n",
       "      <th>income</th>\n",
       "      <th>nation</th>\n",
       "    </tr>\n",
       "  </thead>\n",
       "  <tbody>\n",
       "    <tr>\n",
       "      <th>0</th>\n",
       "      <td>Corey</td>\n",
       "      <td>Schafer</td>\n",
       "      <td>corey123@gmail.com</td>\n",
       "      <td>2000</td>\n",
       "      <td>USA</td>\n",
       "    </tr>\n",
       "    <tr>\n",
       "      <th>1</th>\n",
       "      <td>Jane</td>\n",
       "      <td>Jennie</td>\n",
       "      <td>jane@hotmail.com</td>\n",
       "      <td>3000</td>\n",
       "      <td>Russia</td>\n",
       "    </tr>\n",
       "    <tr>\n",
       "      <th>2</th>\n",
       "      <td>John</td>\n",
       "      <td>Johnny</td>\n",
       "      <td>johnybhaiya@gmail.com</td>\n",
       "      <td>1000</td>\n",
       "      <td>Brazil</td>\n",
       "    </tr>\n",
       "  </tbody>\n",
       "</table>\n",
       "</div>"
      ],
      "text/plain": [
       "   first     last                  email  income  nation\n",
       "0  Corey  Schafer     corey123@gmail.com    2000     USA\n",
       "1   Jane   Jennie       jane@hotmail.com    3000  Russia\n",
       "2   John   Johnny  johnybhaiya@gmail.com    1000  Brazil"
      ]
     },
     "execution_count": 59,
     "metadata": {},
     "output_type": "execute_result"
    }
   ],
   "source": [
    "df"
   ]
  },
  {
   "cell_type": "code",
   "execution_count": 60,
   "id": "e23a0349",
   "metadata": {},
   "outputs": [],
   "source": [
    "filt= df['last']  == 'Jennie'"
   ]
  },
  {
   "cell_type": "code",
   "execution_count": 61,
   "id": "7eaddf46",
   "metadata": {},
   "outputs": [
    {
     "data": {
      "text/html": [
       "<div>\n",
       "<style scoped>\n",
       "    .dataframe tbody tr th:only-of-type {\n",
       "        vertical-align: middle;\n",
       "    }\n",
       "\n",
       "    .dataframe tbody tr th {\n",
       "        vertical-align: top;\n",
       "    }\n",
       "\n",
       "    .dataframe thead th {\n",
       "        text-align: right;\n",
       "    }\n",
       "</style>\n",
       "<table border=\"1\" class=\"dataframe\">\n",
       "  <thead>\n",
       "    <tr style=\"text-align: right;\">\n",
       "      <th></th>\n",
       "      <th>first</th>\n",
       "      <th>last</th>\n",
       "      <th>email</th>\n",
       "      <th>income</th>\n",
       "      <th>nation</th>\n",
       "    </tr>\n",
       "  </thead>\n",
       "  <tbody>\n",
       "    <tr>\n",
       "      <th>1</th>\n",
       "      <td>Jane</td>\n",
       "      <td>Jennie</td>\n",
       "      <td>jane@hotmail.com</td>\n",
       "      <td>3000</td>\n",
       "      <td>Russia</td>\n",
       "    </tr>\n",
       "  </tbody>\n",
       "</table>\n",
       "</div>"
      ],
      "text/plain": [
       "  first    last             email  income  nation\n",
       "1  Jane  Jennie  jane@hotmail.com    3000  Russia"
      ]
     },
     "execution_count": 61,
     "metadata": {},
     "output_type": "execute_result"
    }
   ],
   "source": [
    "#df[filt]\n",
    "#OR\n",
    "df[df['last']  == 'Jennie']"
   ]
  },
  {
   "cell_type": "code",
   "execution_count": 62,
   "id": "2f48cb51",
   "metadata": {},
   "outputs": [
    {
     "data": {
      "text/plain": [
       "1    jane@hotmail.com\n",
       "Name: email, dtype: object"
      ]
     },
     "execution_count": 62,
     "metadata": {},
     "output_type": "execute_result"
    }
   ],
   "source": [
    "#df.loc[filt]\n",
    "df.loc[filt,'email'] # to access only email field at selected query"
   ]
  },
  {
   "cell_type": "code",
   "execution_count": 63,
   "id": "8c650a7c",
   "metadata": {},
   "outputs": [],
   "source": [
    "filt2 = (df['last'] == 'Jennie') & (df['first'] =='Jane')"
   ]
  },
  {
   "cell_type": "code",
   "execution_count": 64,
   "id": "065e8b9b",
   "metadata": {},
   "outputs": [
    {
     "data": {
      "text/plain": [
       "0    False\n",
       "1     True\n",
       "2    False\n",
       "dtype: bool"
      ]
     },
     "execution_count": 64,
     "metadata": {},
     "output_type": "execute_result"
    }
   ],
   "source": [
    "filt2"
   ]
  },
  {
   "cell_type": "code",
   "execution_count": 65,
   "id": "e9660170",
   "metadata": {},
   "outputs": [],
   "source": [
    "filt3 = (df['last'] == 'Jennie') | (df['first'] =='Jane')"
   ]
  },
  {
   "cell_type": "code",
   "execution_count": 66,
   "id": "a0f59d14",
   "metadata": {},
   "outputs": [
    {
     "data": {
      "text/plain": [
       "1    jane@hotmail.com\n",
       "Name: email, dtype: object"
      ]
     },
     "execution_count": 66,
     "metadata": {},
     "output_type": "execute_result"
    }
   ],
   "source": [
    "#filt3\n",
    "df.loc[filt3,'email']"
   ]
  },
  {
   "cell_type": "code",
   "execution_count": 67,
   "id": "8bcffd87",
   "metadata": {},
   "outputs": [],
   "source": [
    "reasonable_income = df['income'] > 1000"
   ]
  },
  {
   "cell_type": "code",
   "execution_count": 43,
   "id": "7364c43c",
   "metadata": {},
   "outputs": [
    {
     "data": {
      "text/plain": [
       "0    corey123@gmail.com\n",
       "1      jane@hotmail.com\n",
       "Name: email, dtype: object"
      ]
     },
     "execution_count": 43,
     "metadata": {},
     "output_type": "execute_result"
    }
   ],
   "source": [
    "df.loc[reasonable_income , 'email']"
   ]
  },
  {
   "cell_type": "code",
   "execution_count": 68,
   "id": "dfb53686",
   "metadata": {},
   "outputs": [],
   "source": [
    "countries = ['US','Brazil','Russia']"
   ]
  },
  {
   "cell_type": "code",
   "execution_count": 69,
   "id": "1c823519",
   "metadata": {},
   "outputs": [],
   "source": [
    "filt=df['nation'].isin(countries)"
   ]
  },
  {
   "cell_type": "code",
   "execution_count": 70,
   "id": "2171e53d",
   "metadata": {},
   "outputs": [
    {
     "data": {
      "text/plain": [
       "1    Russia\n",
       "2    Brazil\n",
       "Name: nation, dtype: object"
      ]
     },
     "execution_count": 70,
     "metadata": {},
     "output_type": "execute_result"
    }
   ],
   "source": [
    "df.loc[filt,'nation']"
   ]
  },
  {
   "cell_type": "code",
   "execution_count": null,
   "id": "37abd5c9",
   "metadata": {},
   "outputs": [],
   "source": []
  }
 ],
 "metadata": {
  "kernelspec": {
   "display_name": "Python 3",
   "language": "python",
   "name": "python3"
  },
  "language_info": {
   "codemirror_mode": {
    "name": "ipython",
    "version": 3
   },
   "file_extension": ".py",
   "mimetype": "text/x-python",
   "name": "python",
   "nbconvert_exporter": "python",
   "pygments_lexer": "ipython3",
   "version": "3.9.4"
  }
 },
 "nbformat": 4,
 "nbformat_minor": 5
}
